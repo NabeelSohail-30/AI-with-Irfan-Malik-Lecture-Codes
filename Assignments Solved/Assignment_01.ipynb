{
 "cells": [
  {
   "cell_type": "markdown",
   "metadata": {},
   "source": [
    "Generate a serene landscape featuring a tranquil lakeside view with towering snow-capped mountains in the background."
   ]
  },
  {
   "cell_type": "markdown",
   "metadata": {},
   "source": [
    "Create a breathtaking desert landscape with rolling sand dunes illuminated by the warm, golden hues of the setting sun."
   ]
  },
  {
   "cell_type": "markdown",
   "metadata": {},
   "source": [
    "Generate an image of a majestic white Bengal tiger stalking through a lush, emerald jungle."
   ]
  },
  {
   "cell_type": "markdown",
   "metadata": {},
   "source": [
    "Create a whimsical scene where colorful, anthropomorphic birds engage in a lively dance on tree branches."
   ]
  },
  {
   "cell_type": "markdown",
   "metadata": {},
   "source": [
    "Produce an abstract masterpiece characterized by vibrant, swirling colors that evoke a sense of joy and energy."
   ]
  },
  {
   "cell_type": "markdown",
   "metadata": {},
   "source": [
    "Generate an abstract composition that conveys a feeling of solitude and introspection through bold, contrasting shapes."
   ]
  },
  {
   "cell_type": "markdown",
   "metadata": {},
   "source": [
    "Create a futuristic cityscape with towering skyscrapers intertwined with elevated highways and streams of neon lights."
   ]
  },
  {
   "cell_type": "markdown",
   "metadata": {},
   "source": [
    "Generate a nostalgic cityscape featuring cobblestone streets, vintage lampposts, and quaint cafes in a charming European town."
   ]
  },
  {
   "cell_type": "markdown",
   "metadata": {},
   "source": [
    "Design a fantastical realm with floating islands, mythical creatures, and a radiant, otherworldly sky."
   ]
  },
  {
   "cell_type": "markdown",
   "metadata": {},
   "source": [
    "Generate a high-tech science fiction cityscape set on an alien planet, complete with futuristic architecture and advanced hovercraft."
   ]
  },
  {
   "cell_type": "markdown",
   "metadata": {},
   "source": [
    "Craft a portrait of an elderly musician, capturing the wisdom and passion etched into the lines of their face."
   ]
  },
  {
   "cell_type": "markdown",
   "metadata": {},
   "source": [
    "Generate a striking portrait of a young woman adorned in traditional attire, her eyes reflecting a mix of determination and grace."
   ]
  },
  {
   "cell_type": "markdown",
   "metadata": {},
   "source": [
    "Create a still life composition featuring an assortment of ripe, glistening fruits arranged artfully on a rustic wooden table."
   ]
  },
  {
   "cell_type": "markdown",
   "metadata": {},
   "source": [
    " Generate an intricate still life scene with antique books, a vintage pocket watch, and a flickering candle, evoking a sense of nostalgia."
   ]
  },
  {
   "cell_type": "markdown",
   "metadata": {},
   "source": [
    "Generate a lush botanical garden scene with an abundance of colorful flowers, butterflies, and a cascading waterfall."
   ]
  },
  {
   "cell_type": "markdown",
   "metadata": {},
   "source": [
    "Craft a close-up image of dew-kissed spiderwebs intertwined with delicate morning dewdrops in a misty forest."
   ]
  },
  {
   "cell_type": "markdown",
   "metadata": {},
   "source": [
    "Design an image of a futuristic, eco-friendly architectural marvel that seamlessly blends with its natural surroundings."
   ]
  },
  {
   "cell_type": "markdown",
   "metadata": {},
   "source": [
    "Create an intricate architectural interior with ornate, gothic-style arches, and stained glass windows, bathed in soft, ethereal light."
   ]
  },
  {
   "cell_type": "markdown",
   "metadata": {},
   "source": [
    "Produce a surrealistic dreamscape where giant, floating teacups drift through a starry night sky."
   ]
  },
  {
   "cell_type": "markdown",
   "metadata": {},
   "source": [
    "Generate a surreal scene where a levitating house is tethered to the ground by a single, oversized dandelion."
   ]
  }
 ],
 "metadata": {
  "language_info": {
   "name": "python"
  },
  "orig_nbformat": 4
 },
 "nbformat": 4,
 "nbformat_minor": 2
}
