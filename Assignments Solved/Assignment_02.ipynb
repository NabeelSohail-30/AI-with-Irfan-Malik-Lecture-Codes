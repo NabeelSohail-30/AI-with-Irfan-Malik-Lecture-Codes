{
 "cells": [
  {
   "cell_type": "code",
   "execution_count": 4,
   "metadata": {},
   "outputs": [
    {
     "name": "stdout",
     "output_type": "stream",
     "text": [
      "['apple', 'banana', 'orange', 'strawberry', 'kiwi', 'pineapple', 'mango']\n"
     ]
    }
   ],
   "source": [
    "# Create a list named \"fruits\" containing three different fruits.\n",
    "fruits = [\"apple\", \"banana\", \"orange\", \"strawberry\", \"kiwi\", \"pineapple\", \"mango\"]\n",
    "print(fruits)"
   ]
  },
  {
   "cell_type": "code",
   "execution_count": 5,
   "metadata": {},
   "outputs": [
    {
     "name": "stdout",
     "output_type": "stream",
     "text": [
      "(5, 10, 15, 20, 25)\n"
     ]
    }
   ],
   "source": [
    "# Create a tuple named \"numbers\" with five random numbers.\n",
    "numbers = (5, 10, 15, 20, 25)\n",
    "print(numbers)"
   ]
  },
  {
   "cell_type": "code",
   "execution_count": 6,
   "metadata": {},
   "outputs": [
    {
     "name": "stdout",
     "output_type": "stream",
     "text": [
      "{'blue', 'green', 'red'}\n"
     ]
    }
   ],
   "source": [
    "# Create a set named \"colors\" with three different colors.\n",
    "colors = {\"red\", \"green\", \"blue\"}\n",
    "print(colors)"
   ]
  },
  {
   "cell_type": "code",
   "execution_count": 7,
   "metadata": {},
   "outputs": [
    {
     "name": "stdout",
     "output_type": "stream",
     "text": [
      "{'name': 'John Doe', 'age': 18, 'grade': 'A'}\n"
     ]
    }
   ],
   "source": [
    "# Create a dictionary named \"student\" with the following key-value pairs:\n",
    "# \"name\" as the key and the student's name as the value.\n",
    "# \"age\" as the key and the student's age as the value.\n",
    "# \"grade\" as the key and the student's grade as the value.\n",
    "student = {\n",
    "    \"name\": \"John Doe\",\n",
    "    \"age\": 18,\n",
    "    \"grade\": \"A\"\n",
    "}\n",
    "print(student)"
   ]
  },
  {
   "cell_type": "code",
   "execution_count": 8,
   "metadata": {},
   "outputs": [
    {
     "name": "stdout",
     "output_type": "stream",
     "text": [
      "Roses are red,\n",
      "Violets are blue,\n",
      "Sugar is sweet,\n",
      "And so are you.\n"
     ]
    }
   ],
   "source": [
    "# Create a multi-line string named \"poem\" with a short poem of your choice.\n",
    "poem = \"\"\"Roses are red,\n",
    "Violets are blue,\n",
    "Sugar is sweet,\n",
    "And so are you.\"\"\"\n",
    "print(poem)"
   ]
  },
  {
   "cell_type": "code",
   "execution_count": 9,
   "metadata": {},
   "outputs": [
    {
     "name": "stdout",
     "output_type": "stream",
     "text": [
      "You have many fruits!\n"
     ]
    }
   ],
   "source": [
    "# Write an if statement to check if the length of the \"fruits\" list is greater than 3.\n",
    "if len(fruits) > 3:\n",
    "    print(\"You have many fruits!\")"
   ]
  }
 ],
 "metadata": {
  "kernelspec": {
   "display_name": "Python 3",
   "language": "python",
   "name": "python3"
  },
  "language_info": {
   "codemirror_mode": {
    "name": "ipython",
    "version": 3
   },
   "file_extension": ".py",
   "mimetype": "text/x-python",
   "name": "python",
   "nbconvert_exporter": "python",
   "pygments_lexer": "ipython3",
   "version": "3.11.5"
  },
  "orig_nbformat": 4
 },
 "nbformat": 4,
 "nbformat_minor": 2
}
