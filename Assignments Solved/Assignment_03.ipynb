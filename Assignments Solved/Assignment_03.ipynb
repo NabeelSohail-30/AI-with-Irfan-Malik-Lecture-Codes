{
 "cells": [
  {
   "cell_type": "code",
   "execution_count": 1,
   "metadata": {},
   "outputs": [
    {
     "name": "stdout",
     "output_type": "stream",
     "text": [
      "20 x 1 = 20\n",
      "20 x 2 = 40\n",
      "20 x 3 = 60\n",
      "20 x 4 = 80\n",
      "20 x 5 = 100\n",
      "20 x 6 = 120\n",
      "20 x 7 = 140\n",
      "20 x 8 = 160\n",
      "20 x 9 = 180\n",
      "20 x 10 = 200\n"
     ]
    }
   ],
   "source": [
    "# Input a number from the user\n",
    "number = int(input(\"Enter a number: \"))\n",
    "\n",
    "# Use a for loop to print the multiplication table\n",
    "for i in range(1, 11):\n",
    "    result = number * i\n",
    "    print(f\"{number} x {i} = {result}\")\n"
   ]
  },
  {
   "cell_type": "code",
   "execution_count": 2,
   "metadata": {},
   "outputs": [
    {
     "name": "stdout",
     "output_type": "stream",
     "text": [
      "2\n",
      "4\n",
      "6\n",
      "8\n",
      "10\n"
     ]
    }
   ],
   "source": [
    "# Initialize a variable to start from 1\n",
    "num = 1\n",
    "\n",
    "# Use a while loop to print even numbers from 1 to 10\n",
    "while num <= 10:\n",
    "    if num % 2 == 0:\n",
    "        print(num)\n",
    "    num += 1\n"
   ]
  },
  {
   "cell_type": "code",
   "execution_count": 3,
   "metadata": {},
   "outputs": [
    {
     "name": "stdout",
     "output_type": "stream",
     "text": [
      "Hello, nabeel! Welcome to our program.\n"
     ]
    }
   ],
   "source": [
    "# Define a function called \"greet_user\" that takes a user's name as an argument and prints a personalized greeting message.\n",
    "def greet_user(name):\n",
    "    print(f\"Hello, {name}! Welcome to our program.\")\n",
    "\n",
    "# Call the function and pass a name as an argument\n",
    "user_name = input(\"Enter your name: \")\n",
    "greet_user(user_name)\n"
   ]
  },
  {
   "cell_type": "code",
   "execution_count": 4,
   "metadata": {},
   "outputs": [
    {
     "name": "stdout",
     "output_type": "stream",
     "text": [
      "12 is even.\n"
     ]
    }
   ],
   "source": [
    "# Define a function called \"is_even\" that takes a number as an argument and returns True if the number is even, and False otherwise.\n",
    "def is_even(number):\n",
    "    return number % 2 == 0\n",
    "\n",
    "# Call the function and check if a number is even\n",
    "user_input = int(input(\"Enter a number: \"))\n",
    "if is_even(user_input):\n",
    "    print(f\"{user_input} is even.\")\n",
    "else:\n",
    "    print(f\"{user_input} is not even.\")\n"
   ]
  }
 ],
 "metadata": {
  "kernelspec": {
   "display_name": "Python 3",
   "language": "python",
   "name": "python3"
  },
  "language_info": {
   "codemirror_mode": {
    "name": "ipython",
    "version": 3
   },
   "file_extension": ".py",
   "mimetype": "text/x-python",
   "name": "python",
   "nbconvert_exporter": "python",
   "pygments_lexer": "ipython3",
   "version": "3.11.5"
  },
  "orig_nbformat": 4
 },
 "nbformat": 4,
 "nbformat_minor": 2
}
