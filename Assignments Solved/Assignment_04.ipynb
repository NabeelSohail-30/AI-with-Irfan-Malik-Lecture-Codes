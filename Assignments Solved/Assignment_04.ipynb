{
 "cells": [
  {
   "cell_type": "code",
   "execution_count": 1,
   "metadata": {},
   "outputs": [
    {
     "name": "stdout",
     "output_type": "stream",
     "text": [
      "15\n"
     ]
    }
   ],
   "source": [
    "def calculate_sum(numbers):\n",
    "    return sum(numbers)\n",
    "\n",
    "# Example usage:\n",
    "result = calculate_sum([1, 2, 3, 4, 5])\n",
    "print(result)  # Output: 15\n"
   ]
  },
  {
   "cell_type": "code",
   "execution_count": 2,
   "metadata": {},
   "outputs": [
    {
     "name": "stdout",
     "output_type": "stream",
     "text": [
      "[1, 2, 3, 4, 5]\n"
     ]
    }
   ],
   "source": [
    "def remove_duplicates(input_list):\n",
    "    return list(set(input_list))\n",
    "\n",
    "# Example usage:\n",
    "result = remove_duplicates([1, 2, 2, 3, 4, 4, 5])\n",
    "print(result)  # Output: [1, 2, 3, 4, 5]\n"
   ]
  },
  {
   "cell_type": "code",
   "execution_count": 3,
   "metadata": {},
   "outputs": [
    {
     "name": "stdout",
     "output_type": "stream",
     "text": [
      "20\n"
     ]
    }
   ],
   "source": [
    "def find_max(numbers):\n",
    "    return max(numbers)\n",
    "\n",
    "# Example usage:\n",
    "result = find_max([10, 5, 8, 20, 3])\n",
    "print(result)  # Output: 20\n"
   ]
  },
  {
   "cell_type": "code",
   "execution_count": 4,
   "metadata": {},
   "outputs": [
    {
     "ename": "ModuleNotFoundError",
     "evalue": "No module named 'openai'",
     "output_type": "error",
     "traceback": [
      "\u001b[1;31m---------------------------------------------------------------------------\u001b[0m",
      "\u001b[1;31mModuleNotFoundError\u001b[0m                       Traceback (most recent call last)",
      "\u001b[1;32md:\\AI with Irfan Malik\\Lecture Code\\Assignments Solved\\Assignment_04.ipynb Cell 4\u001b[0m line \u001b[0;36m1\n\u001b[1;32m----> <a href='vscode-notebook-cell:/d%3A/AI%20with%20Irfan%20Malik/Lecture%20Code/Assignments%20Solved/Assignment_04.ipynb#W3sZmlsZQ%3D%3D?line=0'>1</a>\u001b[0m \u001b[39mimport\u001b[39;00m \u001b[39mopenai\u001b[39;00m\n\u001b[0;32m      <a href='vscode-notebook-cell:/d%3A/AI%20with%20Irfan%20Malik/Lecture%20Code/Assignments%20Solved/Assignment_04.ipynb#W3sZmlsZQ%3D%3D?line=2'>3</a>\u001b[0m \u001b[39mdef\u001b[39;00m \u001b[39msentiment_analysis\u001b[39m(input_text):\n\u001b[0;32m      <a href='vscode-notebook-cell:/d%3A/AI%20with%20Irfan%20Malik/Lecture%20Code/Assignments%20Solved/Assignment_04.ipynb#W3sZmlsZQ%3D%3D?line=3'>4</a>\u001b[0m     \u001b[39m# Replace 'YOUR_API_KEY' with your actual API key\u001b[39;00m\n\u001b[0;32m      <a href='vscode-notebook-cell:/d%3A/AI%20with%20Irfan%20Malik/Lecture%20Code/Assignments%20Solved/Assignment_04.ipynb#W3sZmlsZQ%3D%3D?line=4'>5</a>\u001b[0m     openai\u001b[39m.\u001b[39mapi_key \u001b[39m=\u001b[39m \u001b[39m'\u001b[39m\u001b[39mYOUR_API_KEY\u001b[39m\u001b[39m'\u001b[39m\n",
      "\u001b[1;31mModuleNotFoundError\u001b[0m: No module named 'openai'"
     ]
    }
   ],
   "source": [
    "import openai\n",
    "\n",
    "def sentiment_analysis(input_text):\n",
    "    # Replace 'YOUR_API_KEY' with your actual API key\n",
    "    openai.api_key = 'YOUR_API_KEY'\n",
    "\n",
    "    # Make an API call to analyze sentiment\n",
    "    response = openai.Completion.create(\n",
    "        engine=\"davinci\",\n",
    "        prompt=f\"Sentiment of the following text: '{input_text}' is\",\n",
    "        max_tokens=1\n",
    "    )\n",
    "\n",
    "    sentiment = response.choices[0].text.strip()\n",
    "    return sentiment\n",
    "\n",
    "# Example usage:\n",
    "user_input = input(\"Enter a sentence: \")\n",
    "result = sentiment_analysis(user_input)\n",
    "print(f\"Sentiment: {result}\")\n"
   ]
  },
  {
   "cell_type": "code",
   "execution_count": 5,
   "metadata": {},
   "outputs": [
    {
     "ename": "ModuleNotFoundError",
     "evalue": "No module named 'openai'",
     "output_type": "error",
     "traceback": [
      "\u001b[1;31m---------------------------------------------------------------------------\u001b[0m",
      "\u001b[1;31mModuleNotFoundError\u001b[0m                       Traceback (most recent call last)",
      "\u001b[1;32md:\\AI with Irfan Malik\\Lecture Code\\Assignments Solved\\Assignment_04.ipynb Cell 5\u001b[0m line \u001b[0;36m1\n\u001b[1;32m----> <a href='vscode-notebook-cell:/d%3A/AI%20with%20Irfan%20Malik/Lecture%20Code/Assignments%20Solved/Assignment_04.ipynb#W4sZmlsZQ%3D%3D?line=0'>1</a>\u001b[0m \u001b[39mimport\u001b[39;00m \u001b[39mopenai\u001b[39;00m\n\u001b[0;32m      <a href='vscode-notebook-cell:/d%3A/AI%20with%20Irfan%20Malik/Lecture%20Code/Assignments%20Solved/Assignment_04.ipynb#W4sZmlsZQ%3D%3D?line=2'>3</a>\u001b[0m \u001b[39mdef\u001b[39;00m \u001b[39mtweet_generator\u001b[39m(input_topic):\n\u001b[0;32m      <a href='vscode-notebook-cell:/d%3A/AI%20with%20Irfan%20Malik/Lecture%20Code/Assignments%20Solved/Assignment_04.ipynb#W4sZmlsZQ%3D%3D?line=3'>4</a>\u001b[0m     \u001b[39m# Replace 'YOUR_API_KEY' with your actual API key\u001b[39;00m\n\u001b[0;32m      <a href='vscode-notebook-cell:/d%3A/AI%20with%20Irfan%20Malik/Lecture%20Code/Assignments%20Solved/Assignment_04.ipynb#W4sZmlsZQ%3D%3D?line=4'>5</a>\u001b[0m     openai\u001b[39m.\u001b[39mapi_key \u001b[39m=\u001b[39m \u001b[39m'\u001b[39m\u001b[39mYOUR_API_KEY\u001b[39m\u001b[39m'\u001b[39m\n",
      "\u001b[1;31mModuleNotFoundError\u001b[0m: No module named 'openai'"
     ]
    }
   ],
   "source": [
    "import openai\n",
    "\n",
    "def tweet_generator(input_topic):\n",
    "    # Replace 'YOUR_API_KEY' with your actual API key\n",
    "    openai.api_key = 'YOUR_API_KEY'\n",
    "\n",
    "    # Generate a tweet using OpenAI\n",
    "    response = openai.Completion.create(\n",
    "        engine=\"davinci\",\n",
    "        prompt=f\"Generate a tweet about '{input_topic}':\",\n",
    "        max_tokens=100\n",
    "    )\n",
    "\n",
    "    tweet = response.choices[0].text.strip()\n",
    "    return tweet\n",
    "\n",
    "# Example usage:\n",
    "user_topic = input(\"Enter a topic: \")\n",
    "result = tweet_generator(user_topic)\n",
    "print(result)\n"
   ]
  }
 ],
 "metadata": {
  "kernelspec": {
   "display_name": "Python 3",
   "language": "python",
   "name": "python3"
  },
  "language_info": {
   "codemirror_mode": {
    "name": "ipython",
    "version": 3
   },
   "file_extension": ".py",
   "mimetype": "text/x-python",
   "name": "python",
   "nbconvert_exporter": "python",
   "pygments_lexer": "ipython3",
   "version": "3.11.5"
  },
  "orig_nbformat": 4
 },
 "nbformat": 4,
 "nbformat_minor": 2
}
