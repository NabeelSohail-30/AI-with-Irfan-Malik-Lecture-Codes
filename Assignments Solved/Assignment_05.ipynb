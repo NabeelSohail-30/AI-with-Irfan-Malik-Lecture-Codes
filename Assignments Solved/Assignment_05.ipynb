{
 "cells": [
  {
   "cell_type": "markdown",
   "metadata": {},
   "source": [
    "## Text Summarization"
   ]
  },
  {
   "cell_type": "markdown",
   "metadata": {},
   "source": [
    "Text summarization is the process of condensing a large amount of text into a shorter version while preserving its main ideas and key points. It's often used to extract the most important information from lengthy documents. There are two main types: extractive, which selects and combines existing sentences, and abstractive, which generates new sentences to represent the content. Example: Summarizing a news article to a few sentences highlighting the main story."
   ]
  },
  {
   "cell_type": "markdown",
   "metadata": {},
   "source": [
    "## Object Detection"
   ]
  },
  {
   "cell_type": "markdown",
   "metadata": {},
   "source": [
    "Object detection is a computer vision task that involves identifying and locating objects within an image or video. It not only recognizes objects but also provides their precise positions. For instance, in an image containing a car, a person, and a tree, object detection would identify and outline each of these objects. Example Image: A photo with bounding boxes around detected objects like cars and pedestrians."
   ]
  },
  {
   "cell_type": "markdown",
   "metadata": {},
   "source": [
    "## Image Segmentation"
   ]
  },
  {
   "cell_type": "markdown",
   "metadata": {},
   "source": [
    "Image segmentation is the process of dividing an image into multiple segments or regions to isolate and distinguish objects or areas of interest. Unlike object detection, segmentation provides pixel-level accuracy by assigning each pixel in the image to a particular class or object. Example Image: An image where each object (e.g., a cat, a dog, and the background) is labeled with different colors or masks."
   ]
  },
  {
   "cell_type": "markdown",
   "metadata": {},
   "source": [
    "## Image Classification"
   ]
  },
  {
   "cell_type": "markdown",
   "metadata": {},
   "source": [
    "Image classification is a computer vision task that involves assigning a label or category to an entire image. It's commonly used for tasks like recognizing objects in photos. For instance, classifying an image as \"cat\" or \"dog\" based on its content. Example Image: An image labeled with its corresponding category, such as \"cat\" or \"dog.\""
   ]
  },
  {
   "cell_type": "markdown",
   "metadata": {},
   "source": [
    "# Hugging Face Pipelines"
   ]
  },
  {
   "cell_type": "markdown",
   "metadata": {},
   "source": [
    "## Sentiment Analysis"
   ]
  },
  {
   "cell_type": "markdown",
   "metadata": {},
   "source": [
    "## Text Summarization"
   ]
  },
  {
   "cell_type": "markdown",
   "metadata": {},
   "source": [
    "## Image Classification"
   ]
  },
  {
   "cell_type": "markdown",
   "metadata": {},
   "source": [
    "## Text-to-Image"
   ]
  }
 ],
 "metadata": {
  "language_info": {
   "name": "python"
  },
  "orig_nbformat": 4
 },
 "nbformat": 4,
 "nbformat_minor": 2
}
