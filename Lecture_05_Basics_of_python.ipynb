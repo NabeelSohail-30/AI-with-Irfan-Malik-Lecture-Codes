{
  "cells": [
    {
      "cell_type": "markdown",
      "metadata": {
        "id": "tp42BY655WrT"
      },
      "source": [
        "# **Hope to Skill - Free AI Course**\n",
        "## **Python Lecture - 01**\n",
        "Basics of python "
      ]
    },
    {
      "cell_type": "markdown",
      "metadata": {
        "id": "GDCfrgzcVvpL"
      },
      "source": [
        "# **1.Variable naming**\n",
        "Rules for naming conventions"
      ]
    },
    {
      "cell_type": "code",
      "execution_count": 2,
      "metadata": {
        "id": "APfyW0cdz_ii"
      },
      "outputs": [],
      "source": [
        "# Right Variable Declaration\n",
        "num_students = 25"
      ]
    },
    {
      "cell_type": "code",
      "execution_count": null,
      "metadata": {
        "id": "RrMk7pOTG-8r"
      },
      "outputs": [],
      "source": [
        "total_sales = 1000.50"
      ]
    },
    {
      "cell_type": "code",
      "execution_count": null,
      "metadata": {
        "id": "n3igG7n4G_8M"
      },
      "outputs": [],
      "source": [
        "student_name = \"AI\""
      ]
    },
    {
      "cell_type": "code",
      "execution_count": 4,
      "metadata": {
        "colab": {
          "base_uri": "https://localhost:8080/"
        },
        "id": "Yximv6J8XCrW",
        "outputId": "6f3ce449-ee36-4993-d8f9-76d8b70787c5"
      },
      "outputs": [
        {
          "name": "stdout",
          "output_type": "stream",
          "text": [
            "Hello world\n"
          ]
        }
      ],
      "source": [
        "print(\"Hello world\")"
      ]
    },
    {
      "cell_type": "code",
      "execution_count": null,
      "metadata": {
        "colab": {
          "base_uri": "https://localhost:8080/"
        },
        "id": "Kq5DXX6f0BUT",
        "outputId": "4e336909-a202-4115-fafd-0fb5bb9fb6fa"
      },
      "outputs": [
        {
          "name": "stdout",
          "output_type": "stream",
          "text": [
            "25\n"
          ]
        }
      ],
      "source": [
        "# Print variable values\n",
        "print( num_students)"
      ]
    },
    {
      "cell_type": "code",
      "execution_count": null,
      "metadata": {
        "colab": {
          "base_uri": "https://localhost:8080/"
        },
        "id": "gD58pVWpHEnc",
        "outputId": "f2327583-cee7-46b6-be6a-5a3a5e4936cf"
      },
      "outputs": [
        {
          "name": "stdout",
          "output_type": "stream",
          "text": [
            "1000.5\n"
          ]
        }
      ],
      "source": [
        "print(total_sales)"
      ]
    },
    {
      "cell_type": "code",
      "execution_count": null,
      "metadata": {
        "colab": {
          "base_uri": "https://localhost:8080/"
        },
        "id": "XgR056R8HF9k",
        "outputId": "05bbe14f-d0c0-46e2-ce8f-6e740a98a466"
      },
      "outputs": [
        {
          "name": "stdout",
          "output_type": "stream",
          "text": [
            "AI\n"
          ]
        }
      ],
      "source": [
        "print(student_name)"
      ]
    },
    {
      "cell_type": "code",
      "execution_count": null,
      "metadata": {
        "colab": {
          "base_uri": "https://localhost:8080/",
          "height": 132
        },
        "id": "UECuC7IR0Cqq",
        "outputId": "2c64eb48-84b7-46e0-e9bc-b28689aad40b"
      },
      "outputs": [
        {
          "ename": "SyntaxError",
          "evalue": "ignored",
          "output_type": "error",
          "traceback": [
            "\u001b[0;36m  File \u001b[0;32m\"<ipython-input-13-f808461acc83>\"\u001b[0;36m, line \u001b[0;32m2\u001b[0m\n\u001b[0;31m    2nd_student = \"Alice\"  # Invalid variable name starting with a number\u001b[0m\n\u001b[0m    ^\u001b[0m\n\u001b[0;31mSyntaxError\u001b[0m\u001b[0;31m:\u001b[0m invalid decimal literal\n"
          ]
        }
      ],
      "source": [
        "# Wrong Variable Declaration\n",
        "2nd_student = \"Alice\"  # Invalid variable name starting with a number"
      ]
    },
    {
      "cell_type": "code",
      "execution_count": null,
      "metadata": {
        "colab": {
          "base_uri": "https://localhost:8080/",
          "height": 132
        },
        "id": "9AnchU9m0Mky",
        "outputId": "2d8cd7df-1233-4d9e-874e-da0f7c32f68c"
      },
      "outputs": [
        {
          "ename": "SyntaxError",
          "evalue": "ignored",
          "output_type": "error",
          "traceback": [
            "\u001b[0;36m  File \u001b[0;32m\"<ipython-input-14-31e2d1ed59cd>\"\u001b[0;36m, line \u001b[0;32m1\u001b[0m\n\u001b[0;31m    total-sales = 500.75   # Invalid variable name with a hyphen\u001b[0m\n\u001b[0m    ^\u001b[0m\n\u001b[0;31mSyntaxError\u001b[0m\u001b[0;31m:\u001b[0m cannot assign to expression here. Maybe you meant '==' instead of '='?\n"
          ]
        }
      ],
      "source": [
        "total-sales = 500.75   # Invalid variable name with a hyphen"
      ]
    },
    {
      "cell_type": "code",
      "execution_count": null,
      "metadata": {
        "colab": {
          "base_uri": "https://localhost:8080/",
          "height": 132
        },
        "id": "9Ndfsmq_0OWK",
        "outputId": "9fe3afdf-d676-428b-acd1-69e61023574c"
      },
      "outputs": [
        {
          "ename": "SyntaxError",
          "evalue": "ignored",
          "output_type": "error",
          "traceback": [
            "\u001b[0;36m  File \u001b[0;32m\"<ipython-input-15-a215e33ddd11>\"\u001b[0;36m, line \u001b[0;32m1\u001b[0m\n\u001b[0;31m    if = 10                # Invalid variable name using a reserved keyword\u001b[0m\n\u001b[0m       ^\u001b[0m\n\u001b[0;31mSyntaxError\u001b[0m\u001b[0;31m:\u001b[0m invalid syntax\n"
          ]
        }
      ],
      "source": [
        "if = 10                # Invalid variable name using a reserved keyword"
      ]
    },
    {
      "cell_type": "code",
      "execution_count": null,
      "metadata": {
        "colab": {
          "base_uri": "https://localhost:8080/",
          "height": 132
        },
        "id": "X_41UfZNWC-q",
        "outputId": "fbee8190-e297-4d2e-af33-11e381ab0bd0"
      },
      "outputs": [
        {
          "ename": "SyntaxError",
          "evalue": "ignored",
          "output_type": "error",
          "traceback": [
            "\u001b[0;36m  File \u001b[0;32m\"<ipython-input-16-6add8792141a>\"\u001b[0;36m, line \u001b[0;32m2\u001b[0m\n\u001b[0;31m    print(2nd_student)\u001b[0m\n\u001b[0m          ^\u001b[0m\n\u001b[0;31mSyntaxError\u001b[0m\u001b[0;31m:\u001b[0m invalid decimal literal\n"
          ]
        }
      ],
      "source": [
        "# Wrong Variable Declarations\n",
        "print(2nd_student)\n",
        "print(total-sales)    \n",
        "print(if)"
      ]
    },
    {
      "cell_type": "markdown",
      "metadata": {
        "id": "VG6wE0Q9U17m"
      },
      "source": [
        "# **2- Data types**"
      ]
    },
    {
      "cell_type": "markdown",
      "metadata": {
        "id": "qE86Ynj6U7wg"
      },
      "source": [
        "\n",
        "In computer programming, data types specify the type of data that can be stored inside a variable. \n",
        "\n",
        "\n",
        "---\n",
        "2.1. Data Type: Numeric\n",
        "\n",
        "\n",
        "*   int : 12\n",
        "*   float : 12.45\n",
        "*   complex : 1+2j\n",
        "\n",
        "---\n",
        "2.2. Data Type: String\n",
        "\n",
        "\n",
        "*   str : \"The future of AI\"\n",
        "\n",
        "---"
      ]
    },
    {
      "cell_type": "code",
      "execution_count": null,
      "metadata": {
        "id": "VAxSoz704eZH"
      },
      "outputs": [],
      "source": [
        "num = 23"
      ]
    },
    {
      "cell_type": "code",
      "execution_count": null,
      "metadata": {
        "colab": {
          "base_uri": "https://localhost:8080/"
        },
        "id": "fduF9YbeE5Dq",
        "outputId": "ffe3fa08-75cb-475c-cce0-723b887f2f71"
      },
      "outputs": [
        {
          "data": {
            "text/plain": [
              "23"
            ]
          },
          "execution_count": 18,
          "metadata": {},
          "output_type": "execute_result"
        }
      ],
      "source": [
        "num"
      ]
    },
    {
      "cell_type": "code",
      "execution_count": null,
      "metadata": {
        "colab": {
          "base_uri": "https://localhost:8080/",
          "height": 132
        },
        "id": "VFTssPFVM1Sq",
        "outputId": "834b9fc6-d331-49b2-ef07-d19f3acffd9a"
      },
      "outputs": [
        {
          "ename": "SyntaxError",
          "evalue": "ignored",
          "output_type": "error",
          "traceback": [
            "\u001b[0;36m  File \u001b[0;32m\"<ipython-input-19-198ee80ed02a>\"\u001b[0;36m, line \u001b[0;32m1\u001b[0m\n\u001b[0;31m    int num1 = 100\u001b[0m\n\u001b[0m        ^\u001b[0m\n\u001b[0;31mSyntaxError\u001b[0m\u001b[0;31m:\u001b[0m invalid syntax\n"
          ]
        }
      ],
      "source": [
        "int num1 = 100"
      ]
    },
    {
      "cell_type": "markdown",
      "metadata": {
        "id": "avu-O9el5Ens"
      },
      "source": [
        "Above, 23 (an integer) is assigned to the \"num\" variable. So the data type of num is of the int."
      ]
    },
    {
      "cell_type": "code",
      "execution_count": null,
      "metadata": {
        "id": "QSqi1jSq1HsA"
      },
      "outputs": [],
      "source": [
        "course = \"Hope to Skills Free AI Course\""
      ]
    },
    {
      "cell_type": "code",
      "execution_count": null,
      "metadata": {
        "colab": {
          "base_uri": "https://localhost:8080/"
        },
        "id": "lE9RK1s41aSD",
        "outputId": "457b096c-f933-40d0-bb4f-6427bae7f8fb"
      },
      "outputs": [
        {
          "name": "stdout",
          "output_type": "stream",
          "text": [
            "Hope to Skills Free AI Course\n"
          ]
        }
      ],
      "source": [
        "print(course)"
      ]
    },
    {
      "cell_type": "markdown",
      "metadata": {
        "id": "fw8MAc25FuBB"
      },
      "source": [
        "Above, \"Hope to Skills Free AI Course\" (a String) is assigned to the \"course\" variable. So the data type of course is of the string."
      ]
    },
    {
      "cell_type": "code",
      "execution_count": null,
      "metadata": {
        "id": "mBmi5tjb1cOJ"
      },
      "outputs": [],
      "source": [
        "marks = 85.63"
      ]
    },
    {
      "cell_type": "markdown",
      "metadata": {
        "id": "K-g-zJIQGaZY"
      },
      "source": [
        "Above, \"85.63\" (a float) is assigned to the \"marks\" variable. So the data type of marks is of the float."
      ]
    },
    {
      "cell_type": "code",
      "execution_count": null,
      "metadata": {
        "id": "NqlbGH8A1k4s"
      },
      "outputs": [],
      "source": [
        "complex_number = 1+2j"
      ]
    },
    {
      "cell_type": "code",
      "execution_count": null,
      "metadata": {
        "colab": {
          "base_uri": "https://localhost:8080/"
        },
        "id": "g4UiysNz1qz4",
        "outputId": "ca7d5b8c-f01c-460c-b8e1-8c93599ee1e5"
      },
      "outputs": [
        {
          "data": {
            "text/plain": [
              "(1+2j)"
            ]
          },
          "execution_count": 24,
          "metadata": {},
          "output_type": "execute_result"
        }
      ],
      "source": [
        "complex_number"
      ]
    },
    {
      "cell_type": "markdown",
      "metadata": {
        "id": "6HXl9gXOGm6Z"
      },
      "source": [
        "Above, \"1+2j\" (a complex number) is assigned to the \"complex_number\" variable. So the data type of complex_number is of the complex."
      ]
    },
    {
      "cell_type": "markdown",
      "metadata": {
        "id": "2FMKKenO8ibY"
      },
      "source": [
        "## **Task#01**\n",
        "Assign values to variables and display their value."
      ]
    },
    {
      "cell_type": "code",
      "execution_count": null,
      "metadata": {
        "id": "8vMqy7qj5Dp0"
      },
      "outputs": [],
      "source": [
        "#Assign any String to variable "
      ]
    },
    {
      "cell_type": "code",
      "execution_count": null,
      "metadata": {
        "id": "Qck-VIzz8tVH"
      },
      "outputs": [],
      "source": [
        "#Assign any Integer value to variable "
      ]
    },
    {
      "cell_type": "code",
      "execution_count": null,
      "metadata": {
        "id": "7OaSUlmN8w5m"
      },
      "outputs": [],
      "source": [
        "# Assign any Float Value to Variable"
      ]
    },
    {
      "cell_type": "markdown",
      "metadata": {
        "id": "2jAo0dK9v9H1"
      },
      "source": [
        "### Operators\n",
        "1. (+) addition\n",
        "2. (-) subtraction\n",
        "3. / division\n",
        "4. ** exponentiation\n",
        "5. % modulus (remainder after division)\n",
        "6. Comparison Operators are discussed Later\n",
        "7. Python has incorporated operators like +=, but ++ (or --) do not work in Python"
      ]
    },
    {
      "cell_type": "code",
      "execution_count": null,
      "metadata": {
        "colab": {
          "base_uri": "https://localhost:8080/"
        },
        "id": "F1WPzRjkIeuR",
        "outputId": "b461223f-3715-487f-c889-3ffbb7a287ec"
      },
      "outputs": [
        {
          "name": "stdout",
          "output_type": "stream",
          "text": [
            "12\n"
          ]
        }
      ],
      "source": [
        "# Multiply two numbers\n",
        "print(3*4)"
      ]
    },
    {
      "cell_type": "code",
      "execution_count": null,
      "metadata": {
        "colab": {
          "base_uri": "https://localhost:8080/"
        },
        "id": "iAtsnkdvIgjZ",
        "outputId": "c864164c-627a-4fc4-a32b-598558c58491"
      },
      "outputs": [
        {
          "name": "stdout",
          "output_type": "stream",
          "text": [
            "9\n"
          ]
        }
      ],
      "source": [
        "# Display calculate square of number\n",
        "print(3**2)"
      ]
    },
    {
      "cell_type": "code",
      "execution_count": null,
      "metadata": {
        "colab": {
          "base_uri": "https://localhost:8080/"
        },
        "id": "DUY8IG3DIh4x",
        "outputId": "c15e762b-f506-4774-dc68-0ec3aa1b170e"
      },
      "outputs": [
        {
          "name": "stdout",
          "output_type": "stream",
          "text": [
            "1\n"
          ]
        }
      ],
      "source": [
        "# Calculate the Remainder \n",
        "print(16%5)"
      ]
    },
    {
      "cell_type": "code",
      "execution_count": null,
      "metadata": {
        "colab": {
          "base_uri": "https://localhost:8080/"
        },
        "id": "w_FGGf9WIi7p",
        "outputId": "063f5c8f-c736-4d69-df71-dce91e01ab2e"
      },
      "outputs": [
        {
          "data": {
            "text/plain": [
              "0.5"
            ]
          },
          "execution_count": 26,
          "metadata": {},
          "output_type": "execute_result"
        }
      ],
      "source": [
        "# Divide two numbers\n",
        "a = 5.0/10.0\n",
        "a"
      ]
    },
    {
      "cell_type": "code",
      "execution_count": null,
      "metadata": {
        "colab": {
          "base_uri": "https://localhost:8080/"
        },
        "id": "JF-_uUfIIqFp",
        "outputId": "b05bb848-9df3-4cf4-f264-45d24d084466"
      },
      "outputs": [
        {
          "data": {
            "text/plain": [
              "2"
            ]
          },
          "execution_count": 27,
          "metadata": {},
          "output_type": "execute_result"
        }
      ],
      "source": [
        "# Calculate the Quotient of two numbers\n",
        "b= 11//4\n",
        "b"
      ]
    },
    {
      "cell_type": "markdown",
      "metadata": {
        "id": "6JngBPaWv9H1"
      },
      "source": [
        "### Adding two integers"
      ]
    },
    {
      "cell_type": "code",
      "execution_count": null,
      "metadata": {
        "colab": {
          "base_uri": "https://localhost:8080/"
        },
        "id": "bqzAkHS_v9H1",
        "outputId": "8c0b2d5c-9b37-4660-fa79-3aeda1b686a7"
      },
      "outputs": [
        {
          "name": "stdout",
          "output_type": "stream",
          "text": [
            "7\n"
          ]
        }
      ],
      "source": [
        "num1 = 5\n",
        "num2 = 2\n",
        "sum = num1 + num2\n",
        "print(sum)"
      ]
    },
    {
      "cell_type": "markdown",
      "metadata": {
        "id": "u0EeGlF0qmQT"
      },
      "source": [
        "### simple program to calculate the area of Rectangle\n",
        "area of rectangle = length * height"
      ]
    },
    {
      "cell_type": "code",
      "execution_count": null,
      "metadata": {
        "colab": {
          "base_uri": "https://localhost:8080/"
        },
        "id": "iqT1uRkaq8ZK",
        "outputId": "7cd7bf00-95d1-4887-b74f-2ffc295ac62c"
      },
      "outputs": [
        {
          "name": "stdout",
          "output_type": "stream",
          "text": [
            "8.75\n"
          ]
        }
      ],
      "source": [
        "# Simple program to calculate the area of rectangle\n",
        "\n",
        "length = 2.5\n",
        "height = 3.5\n",
        "area = length * height\n",
        "print(area)"
      ]
    },
    {
      "cell_type": "markdown",
      "metadata": {
        "id": "0okWYDH-2g3z"
      },
      "source": [
        "# **Task-02**\n",
        "\n",
        "1. Create a simple python program to swap variables using three variable.\n",
        "2. create a simple python program to swap variable using only two variables \n"
      ]
    },
    {
      "cell_type": "code",
      "execution_count": null,
      "metadata": {
        "id": "CI5gLsos3Bha"
      },
      "outputs": [],
      "source": [
        "# code here "
      ]
    }
  ],
  "metadata": {
    "colab": {
      "provenance": []
    },
    "kernelspec": {
      "display_name": "Python 3",
      "name": "python3"
    },
    "language_info": {
      "codemirror_mode": {
        "name": "ipython",
        "version": 3
      },
      "file_extension": ".py",
      "mimetype": "text/x-python",
      "name": "python",
      "nbconvert_exporter": "python",
      "pygments_lexer": "ipython3",
      "version": "3.11.5"
    }
  },
  "nbformat": 4,
  "nbformat_minor": 0
}
