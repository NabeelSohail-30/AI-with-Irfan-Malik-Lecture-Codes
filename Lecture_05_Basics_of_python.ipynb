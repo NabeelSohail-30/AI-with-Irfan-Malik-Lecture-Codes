{
  "nbformat": 4,
  "nbformat_minor": 0,
  "metadata": {
    "colab": {
      "provenance": []
    },
    "kernelspec": {
      "name": "python3",
      "display_name": "Python 3"
    },
    "language_info": {
      "name": "python"
    }
  },
  "cells": [
    {
      "cell_type": "markdown",
      "source": [
        "# **Hope to Skill - Free AI Course**\n",
        "## **Python Lecture - 01**\n",
        "Basics of python "
      ],
      "metadata": {
        "id": "tp42BY655WrT"
      }
    },
    {
      "cell_type": "markdown",
      "source": [
        "# **1.Variable naming**\n",
        "Rules for naming conventions"
      ],
      "metadata": {
        "id": "GDCfrgzcVvpL"
      }
    },
    {
      "cell_type": "code",
      "source": [
        "# Right Variable Declaration\n",
        "num_students = 25"
      ],
      "metadata": {
        "id": "APfyW0cdz_ii"
      },
      "execution_count": null,
      "outputs": []
    },
    {
      "cell_type": "code",
      "source": [
        "total_sales = 1000.50"
      ],
      "metadata": {
        "id": "RrMk7pOTG-8r"
      },
      "execution_count": null,
      "outputs": []
    },
    {
      "cell_type": "code",
      "source": [
        "student_name = \"AI\""
      ],
      "metadata": {
        "id": "n3igG7n4G_8M"
      },
      "execution_count": null,
      "outputs": []
    },
    {
      "cell_type": "code",
      "source": [
        "print(\"Hello world\")"
      ],
      "metadata": {
        "colab": {
          "base_uri": "https://localhost:8080/"
        },
        "id": "Yximv6J8XCrW",
        "outputId": "6f3ce449-ee36-4993-d8f9-76d8b70787c5"
      },
      "execution_count": null,
      "outputs": [
        {
          "output_type": "stream",
          "name": "stdout",
          "text": [
            "Hello world\n"
          ]
        }
      ]
    },
    {
      "cell_type": "code",
      "source": [
        "# Print variable values\n",
        "print( num_students)"
      ],
      "metadata": {
        "colab": {
          "base_uri": "https://localhost:8080/"
        },
        "id": "Kq5DXX6f0BUT",
        "outputId": "4e336909-a202-4115-fafd-0fb5bb9fb6fa"
      },
      "execution_count": null,
      "outputs": [
        {
          "output_type": "stream",
          "name": "stdout",
          "text": [
            "25\n"
          ]
        }
      ]
    },
    {
      "cell_type": "code",
      "source": [
        "print(total_sales)"
      ],
      "metadata": {
        "colab": {
          "base_uri": "https://localhost:8080/"
        },
        "id": "gD58pVWpHEnc",
        "outputId": "f2327583-cee7-46b6-be6a-5a3a5e4936cf"
      },
      "execution_count": null,
      "outputs": [
        {
          "output_type": "stream",
          "name": "stdout",
          "text": [
            "1000.5\n"
          ]
        }
      ]
    },
    {
      "cell_type": "code",
      "source": [
        "print(student_name)"
      ],
      "metadata": {
        "colab": {
          "base_uri": "https://localhost:8080/"
        },
        "id": "XgR056R8HF9k",
        "outputId": "05bbe14f-d0c0-46e2-ce8f-6e740a98a466"
      },
      "execution_count": null,
      "outputs": [
        {
          "output_type": "stream",
          "name": "stdout",
          "text": [
            "AI\n"
          ]
        }
      ]
    },
    {
      "cell_type": "code",
      "source": [
        "# Wrong Variable Declaration\n",
        "2nd_student = \"Alice\"  # Invalid variable name starting with a number"
      ],
      "metadata": {
        "colab": {
          "base_uri": "https://localhost:8080/",
          "height": 132
        },
        "id": "UECuC7IR0Cqq",
        "outputId": "2c64eb48-84b7-46e0-e9bc-b28689aad40b"
      },
      "execution_count": null,
      "outputs": [
        {
          "output_type": "error",
          "ename": "SyntaxError",
          "evalue": "ignored",
          "traceback": [
            "\u001b[0;36m  File \u001b[0;32m\"<ipython-input-13-f808461acc83>\"\u001b[0;36m, line \u001b[0;32m2\u001b[0m\n\u001b[0;31m    2nd_student = \"Alice\"  # Invalid variable name starting with a number\u001b[0m\n\u001b[0m    ^\u001b[0m\n\u001b[0;31mSyntaxError\u001b[0m\u001b[0;31m:\u001b[0m invalid decimal literal\n"
          ]
        }
      ]
    },
    {
      "cell_type": "code",
      "source": [
        "total-sales = 500.75   # Invalid variable name with a hyphen"
      ],
      "metadata": {
        "colab": {
          "base_uri": "https://localhost:8080/",
          "height": 132
        },
        "id": "9AnchU9m0Mky",
        "outputId": "2d8cd7df-1233-4d9e-874e-da0f7c32f68c"
      },
      "execution_count": null,
      "outputs": [
        {
          "output_type": "error",
          "ename": "SyntaxError",
          "evalue": "ignored",
          "traceback": [
            "\u001b[0;36m  File \u001b[0;32m\"<ipython-input-14-31e2d1ed59cd>\"\u001b[0;36m, line \u001b[0;32m1\u001b[0m\n\u001b[0;31m    total-sales = 500.75   # Invalid variable name with a hyphen\u001b[0m\n\u001b[0m    ^\u001b[0m\n\u001b[0;31mSyntaxError\u001b[0m\u001b[0;31m:\u001b[0m cannot assign to expression here. Maybe you meant '==' instead of '='?\n"
          ]
        }
      ]
    },
    {
      "cell_type": "code",
      "source": [
        "if = 10                # Invalid variable name using a reserved keyword"
      ],
      "metadata": {
        "colab": {
          "base_uri": "https://localhost:8080/",
          "height": 132
        },
        "id": "9Ndfsmq_0OWK",
        "outputId": "9fe3afdf-d676-428b-acd1-69e61023574c"
      },
      "execution_count": null,
      "outputs": [
        {
          "output_type": "error",
          "ename": "SyntaxError",
          "evalue": "ignored",
          "traceback": [
            "\u001b[0;36m  File \u001b[0;32m\"<ipython-input-15-a215e33ddd11>\"\u001b[0;36m, line \u001b[0;32m1\u001b[0m\n\u001b[0;31m    if = 10                # Invalid variable name using a reserved keyword\u001b[0m\n\u001b[0m       ^\u001b[0m\n\u001b[0;31mSyntaxError\u001b[0m\u001b[0;31m:\u001b[0m invalid syntax\n"
          ]
        }
      ]
    },
    {
      "cell_type": "code",
      "source": [
        "# Wrong Variable Declarations\n",
        "print(2nd_student)\n",
        "print(total-sales)    \n",
        "print(if)"
      ],
      "metadata": {
        "id": "X_41UfZNWC-q",
        "colab": {
          "base_uri": "https://localhost:8080/",
          "height": 132
        },
        "outputId": "fbee8190-e297-4d2e-af33-11e381ab0bd0"
      },
      "execution_count": null,
      "outputs": [
        {
          "output_type": "error",
          "ename": "SyntaxError",
          "evalue": "ignored",
          "traceback": [
            "\u001b[0;36m  File \u001b[0;32m\"<ipython-input-16-6add8792141a>\"\u001b[0;36m, line \u001b[0;32m2\u001b[0m\n\u001b[0;31m    print(2nd_student)\u001b[0m\n\u001b[0m          ^\u001b[0m\n\u001b[0;31mSyntaxError\u001b[0m\u001b[0;31m:\u001b[0m invalid decimal literal\n"
          ]
        }
      ]
    },
    {
      "cell_type": "markdown",
      "source": [
        "# **2- Data types**"
      ],
      "metadata": {
        "id": "VG6wE0Q9U17m"
      }
    },
    {
      "cell_type": "markdown",
      "source": [
        "\n",
        "In computer programming, data types specify the type of data that can be stored inside a variable. \n",
        "\n",
        "\n",
        "---\n",
        "2.1. Data Type: Numeric\n",
        "\n",
        "\n",
        "*   int : 12\n",
        "*   float : 12.45\n",
        "*   complex : 1+2j\n",
        "\n",
        "---\n",
        "2.2. Data Type: String\n",
        "\n",
        "\n",
        "*   str : \"The future of AI\"\n",
        "\n",
        "---"
      ],
      "metadata": {
        "id": "qE86Ynj6U7wg"
      }
    },
    {
      "cell_type": "code",
      "source": [
        "num = 23"
      ],
      "metadata": {
        "id": "VAxSoz704eZH"
      },
      "execution_count": null,
      "outputs": []
    },
    {
      "cell_type": "code",
      "source": [
        "num"
      ],
      "metadata": {
        "colab": {
          "base_uri": "https://localhost:8080/"
        },
        "id": "fduF9YbeE5Dq",
        "outputId": "ffe3fa08-75cb-475c-cce0-723b887f2f71"
      },
      "execution_count": null,
      "outputs": [
        {
          "output_type": "execute_result",
          "data": {
            "text/plain": [
              "23"
            ]
          },
          "metadata": {},
          "execution_count": 18
        }
      ]
    },
    {
      "cell_type": "code",
      "source": [
        "int num1 = 100"
      ],
      "metadata": {
        "colab": {
          "base_uri": "https://localhost:8080/",
          "height": 132
        },
        "id": "VFTssPFVM1Sq",
        "outputId": "834b9fc6-d331-49b2-ef07-d19f3acffd9a"
      },
      "execution_count": null,
      "outputs": [
        {
          "output_type": "error",
          "ename": "SyntaxError",
          "evalue": "ignored",
          "traceback": [
            "\u001b[0;36m  File \u001b[0;32m\"<ipython-input-19-198ee80ed02a>\"\u001b[0;36m, line \u001b[0;32m1\u001b[0m\n\u001b[0;31m    int num1 = 100\u001b[0m\n\u001b[0m        ^\u001b[0m\n\u001b[0;31mSyntaxError\u001b[0m\u001b[0;31m:\u001b[0m invalid syntax\n"
          ]
        }
      ]
    },
    {
      "cell_type": "markdown",
      "source": [
        "Above, 23 (an integer) is assigned to the \"num\" variable. So the data type of num is of the int."
      ],
      "metadata": {
        "id": "avu-O9el5Ens"
      }
    },
    {
      "cell_type": "code",
      "source": [
        "course = \"Hope to Skills Free AI Course\""
      ],
      "metadata": {
        "id": "QSqi1jSq1HsA"
      },
      "execution_count": null,
      "outputs": []
    },
    {
      "cell_type": "code",
      "source": [
        "print(course)"
      ],
      "metadata": {
        "colab": {
          "base_uri": "https://localhost:8080/"
        },
        "id": "lE9RK1s41aSD",
        "outputId": "457b096c-f933-40d0-bb4f-6427bae7f8fb"
      },
      "execution_count": null,
      "outputs": [
        {
          "output_type": "stream",
          "name": "stdout",
          "text": [
            "Hope to Skills Free AI Course\n"
          ]
        }
      ]
    },
    {
      "cell_type": "markdown",
      "source": [
        "Above, \"Hope to Skills Free AI Course\" (a String) is assigned to the \"course\" variable. So the data type of course is of the string."
      ],
      "metadata": {
        "id": "fw8MAc25FuBB"
      }
    },
    {
      "cell_type": "code",
      "source": [
        "marks = 85.63"
      ],
      "metadata": {
        "id": "mBmi5tjb1cOJ"
      },
      "execution_count": null,
      "outputs": []
    },
    {
      "cell_type": "markdown",
      "source": [
        "Above, \"85.63\" (a float) is assigned to the \"marks\" variable. So the data type of marks is of the float."
      ],
      "metadata": {
        "id": "K-g-zJIQGaZY"
      }
    },
    {
      "cell_type": "code",
      "source": [
        "complex_number = 1+2j"
      ],
      "metadata": {
        "id": "NqlbGH8A1k4s"
      },
      "execution_count": null,
      "outputs": []
    },
    {
      "cell_type": "code",
      "source": [
        "complex_number"
      ],
      "metadata": {
        "id": "g4UiysNz1qz4",
        "outputId": "ca7d5b8c-f01c-460c-b8e1-8c93599ee1e5",
        "colab": {
          "base_uri": "https://localhost:8080/"
        }
      },
      "execution_count": null,
      "outputs": [
        {
          "output_type": "execute_result",
          "data": {
            "text/plain": [
              "(1+2j)"
            ]
          },
          "metadata": {},
          "execution_count": 24
        }
      ]
    },
    {
      "cell_type": "markdown",
      "source": [
        "Above, \"1+2j\" (a complex number) is assigned to the \"complex_number\" variable. So the data type of complex_number is of the complex."
      ],
      "metadata": {
        "id": "6HXl9gXOGm6Z"
      }
    },
    {
      "cell_type": "markdown",
      "source": [
        "## **Task#01**\n",
        "Assign values to variables and display their value."
      ],
      "metadata": {
        "id": "2FMKKenO8ibY"
      }
    },
    {
      "cell_type": "code",
      "source": [
        "#Assign any String to variable "
      ],
      "metadata": {
        "id": "8vMqy7qj5Dp0"
      },
      "execution_count": null,
      "outputs": []
    },
    {
      "cell_type": "code",
      "source": [
        "#Assign any Integer value to variable "
      ],
      "metadata": {
        "id": "Qck-VIzz8tVH"
      },
      "execution_count": null,
      "outputs": []
    },
    {
      "cell_type": "code",
      "source": [
        "# Assign any Float Value to Variable"
      ],
      "metadata": {
        "id": "7OaSUlmN8w5m"
      },
      "execution_count": null,
      "outputs": []
    },
    {
      "cell_type": "markdown",
      "metadata": {
        "id": "2jAo0dK9v9H1"
      },
      "source": [
        "### Operators\n",
        "1. (+) addition\n",
        "2. (-) subtraction\n",
        "3. / division\n",
        "4. ** exponentiation\n",
        "5. % modulus (remainder after division)\n",
        "6. Comparison Operators are discussed Later\n",
        "7. Python has incorporated operators like +=, but ++ (or --) do not work in Python"
      ]
    },
    {
      "cell_type": "code",
      "source": [
        "# Multiply two numbers\n",
        "print(3*4)"
      ],
      "metadata": {
        "colab": {
          "base_uri": "https://localhost:8080/"
        },
        "id": "F1WPzRjkIeuR",
        "outputId": "b461223f-3715-487f-c889-3ffbb7a287ec"
      },
      "execution_count": null,
      "outputs": [
        {
          "output_type": "stream",
          "name": "stdout",
          "text": [
            "12\n"
          ]
        }
      ]
    },
    {
      "cell_type": "code",
      "source": [
        "# Display calculate square of number\n",
        "print(3**2)"
      ],
      "metadata": {
        "colab": {
          "base_uri": "https://localhost:8080/"
        },
        "id": "iAtsnkdvIgjZ",
        "outputId": "c864164c-627a-4fc4-a32b-598558c58491"
      },
      "execution_count": null,
      "outputs": [
        {
          "output_type": "stream",
          "name": "stdout",
          "text": [
            "9\n"
          ]
        }
      ]
    },
    {
      "cell_type": "code",
      "source": [
        "# Calculate the Remainder \n",
        "print(16%5)"
      ],
      "metadata": {
        "colab": {
          "base_uri": "https://localhost:8080/"
        },
        "id": "DUY8IG3DIh4x",
        "outputId": "c15e762b-f506-4774-dc68-0ec3aa1b170e"
      },
      "execution_count": null,
      "outputs": [
        {
          "output_type": "stream",
          "name": "stdout",
          "text": [
            "1\n"
          ]
        }
      ]
    },
    {
      "cell_type": "code",
      "source": [
        "# Divide two numbers\n",
        "a = 5.0/10.0\n",
        "a"
      ],
      "metadata": {
        "colab": {
          "base_uri": "https://localhost:8080/"
        },
        "id": "w_FGGf9WIi7p",
        "outputId": "063f5c8f-c736-4d69-df71-dce91e01ab2e"
      },
      "execution_count": null,
      "outputs": [
        {
          "output_type": "execute_result",
          "data": {
            "text/plain": [
              "0.5"
            ]
          },
          "metadata": {},
          "execution_count": 26
        }
      ]
    },
    {
      "cell_type": "code",
      "source": [
        "# Calculate the Quotient of two numbers\n",
        "b= 11//4\n",
        "b"
      ],
      "metadata": {
        "id": "JF-_uUfIIqFp",
        "colab": {
          "base_uri": "https://localhost:8080/"
        },
        "outputId": "b05bb848-9df3-4cf4-f264-45d24d084466"
      },
      "execution_count": null,
      "outputs": [
        {
          "output_type": "execute_result",
          "data": {
            "text/plain": [
              "2"
            ]
          },
          "metadata": {},
          "execution_count": 27
        }
      ]
    },
    {
      "cell_type": "markdown",
      "metadata": {
        "id": "6JngBPaWv9H1"
      },
      "source": [
        "### Adding two integers"
      ]
    },
    {
      "cell_type": "code",
      "execution_count": null,
      "metadata": {
        "id": "bqzAkHS_v9H1",
        "outputId": "8c0b2d5c-9b37-4660-fa79-3aeda1b686a7",
        "colab": {
          "base_uri": "https://localhost:8080/"
        }
      },
      "outputs": [
        {
          "output_type": "stream",
          "name": "stdout",
          "text": [
            "7\n"
          ]
        }
      ],
      "source": [
        "num1 = 5\n",
        "num2 = 2\n",
        "sum = num1 + num2\n",
        "print(sum)"
      ]
    },
    {
      "cell_type": "markdown",
      "source": [
        "### simple program to calculate the area of Rectangle\n",
        "area of rectangle = length * height"
      ],
      "metadata": {
        "id": "u0EeGlF0qmQT"
      }
    },
    {
      "cell_type": "code",
      "source": [
        "# Simple program to calculate the area of rectangle\n",
        "\n",
        "length = 2.5\n",
        "height = 3.5\n",
        "area = length * height\n",
        "print(area)"
      ],
      "metadata": {
        "colab": {
          "base_uri": "https://localhost:8080/"
        },
        "id": "iqT1uRkaq8ZK",
        "outputId": "7cd7bf00-95d1-4887-b74f-2ffc295ac62c"
      },
      "execution_count": null,
      "outputs": [
        {
          "output_type": "stream",
          "name": "stdout",
          "text": [
            "8.75\n"
          ]
        }
      ]
    },
    {
      "cell_type": "markdown",
      "source": [
        "# **Task-02**\n",
        "\n",
        "1. Create a simple python program to swap variables using three variable.\n",
        "2. create a simple python program to swap variable using only two variables \n"
      ],
      "metadata": {
        "id": "0okWYDH-2g3z"
      }
    },
    {
      "cell_type": "code",
      "source": [
        "# code here "
      ],
      "metadata": {
        "id": "CI5gLsos3Bha"
      },
      "execution_count": null,
      "outputs": []
    }
  ]
}