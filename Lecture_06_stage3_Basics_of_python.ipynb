{
  "nbformat": 4,
  "nbformat_minor": 0,
  "metadata": {
    "colab": {
      "provenance": []
    },
    "kernelspec": {
      "name": "python3",
      "display_name": "Python 3"
    },
    "language_info": {
      "name": "python"
    }
  },
  "cells": [
    {
      "cell_type": "markdown",
      "source": [
        "# **Hope to Skills - Free AI Course**\n",
        "## **Python Basics - Lecture 02**\n",
        "\n",
        "This note book cover the following concepts \n",
        "1. Python Strings\n",
        "2. Python List\n",
        "3. Python Tuple \n",
        "4. Python Sets"
      ],
      "metadata": {
        "id": "VG6wE0Q9U17m"
      }
    },
    {
      "cell_type": "markdown",
      "source": [
        "# **2- String in python**\n",
        "Strings in python are surrounded by either single quotation marks, or double quotation marks.\n",
        "'hello' is the same as \"hello\".\n",
        "\n",
        "You can display a string literal with the print() function:"
      ],
      "metadata": {
        "id": "KlzkyP9SVXmp"
      }
    },
    {
      "cell_type": "code",
      "source": [
        "print(\"Hello world\")\n",
        "print('Hello world')"
      ],
      "metadata": {
        "colab": {
          "base_uri": "https://localhost:8080/"
        },
        "id": "WSBhiLPWcL0n",
        "outputId": "8205c988-dff2-4a33-86d2-1417d456affd"
      },
      "execution_count": null,
      "outputs": [
        {
          "output_type": "stream",
          "name": "stdout",
          "text": [
            "Hello world\n",
            "Hello world\n"
          ]
        }
      ]
    },
    {
      "cell_type": "markdown",
      "source": [
        "**Assign String to a Variable**\n",
        "Assigning a string to a variable is done with the variable name followed by an equal sign and the string:"
      ],
      "metadata": {
        "id": "3TA08RrxcS_8"
      }
    },
    {
      "cell_type": "code",
      "source": [
        "a = \"Hello\"\n",
        "print(a)"
      ],
      "metadata": {
        "colab": {
          "base_uri": "https://localhost:8080/"
        },
        "id": "bnvy1OvUcR9t",
        "outputId": "2cf28fc7-c812-48f1-9423-0336a500b5fa"
      },
      "execution_count": null,
      "outputs": [
        {
          "output_type": "stream",
          "name": "stdout",
          "text": [
            "Hello\n"
          ]
        }
      ]
    },
    {
      "cell_type": "markdown",
      "source": [
        "# **Multiline Strings**\n",
        "You can assign a multiline string to a variable by using three quotes Or three single quotes:"
      ],
      "metadata": {
        "id": "t-xwkzZkcfWE"
      }
    },
    {
      "cell_type": "code",
      "source": [
        "a = \"\"\"AI, or Artificial Intelligence, refers to the development and implementation of computer systems\n",
        "      or machines that can perform tasks that would typically require human intelligence. \n",
        "      It is a multidisciplinary field that encompasses various subfields, such as machine learning,\n",
        "      natural language processing, computer vision, robotics, and more.\"\"\"\n",
        "print(a)"
      ],
      "metadata": {
        "colab": {
          "base_uri": "https://localhost:8080/"
        },
        "id": "4Mz9-khqceGM",
        "outputId": "d7c173ba-66d0-4b86-842e-9d78bc6fdbf2"
      },
      "execution_count": null,
      "outputs": [
        {
          "output_type": "stream",
          "name": "stdout",
          "text": [
            "AI, or Artificial Intelligence, refers to the development and implementation of computer systems\n",
            "      or machines that can perform tasks that would typically require human intelligence. \n",
            "      It is a multidisciplinary field that encompasses various subfields, such as machine learning,\n",
            "      natural language processing, computer vision, robotics, and more.\n"
          ]
        }
      ]
    },
    {
      "cell_type": "markdown",
      "source": [
        "# **Modify Strings**\n"
      ],
      "metadata": {
        "id": "-y8DhK_heHtv"
      }
    },
    {
      "cell_type": "markdown",
      "source": [
        "## **Upper Case**\n",
        "The upper() method returns the string in upper case:"
      ],
      "metadata": {
        "id": "pJIrfhEKeNjs"
      }
    },
    {
      "cell_type": "code",
      "source": [
        "a = \"Hello, World!\"\n",
        "print(a.upper())"
      ],
      "metadata": {
        "colab": {
          "base_uri": "https://localhost:8080/"
        },
        "id": "oHz84pJ8ee5s",
        "outputId": "4ac251db-4d91-4098-e64b-19864654bce3"
      },
      "execution_count": null,
      "outputs": [
        {
          "output_type": "stream",
          "name": "stdout",
          "text": [
            "HELLO, WORLD!\n"
          ]
        }
      ]
    },
    {
      "cell_type": "markdown",
      "source": [
        "## **Lower Case**\n",
        "The lower() method returns the string in lower case:"
      ],
      "metadata": {
        "id": "OirlELTtehas"
      }
    },
    {
      "cell_type": "code",
      "source": [
        "a = \" Hello, World! \"\n",
        "print(a.lower())"
      ],
      "metadata": {
        "colab": {
          "base_uri": "https://localhost:8080/"
        },
        "id": "2s8TpsFDemJ0",
        "outputId": "32d57b2c-c233-46f2-b4b6-f45ccf898ecf"
      },
      "execution_count": null,
      "outputs": [
        {
          "output_type": "stream",
          "name": "stdout",
          "text": [
            "hello, world!\n"
          ]
        }
      ]
    },
    {
      "cell_type": "markdown",
      "source": [
        "## **Remove Whitespace**\n",
        "Whitespace is the space before and/or after the actual text, and very often you want to remove this space.\n",
        "The strip() method removes any whitespace from the beginning or the end:"
      ],
      "metadata": {
        "id": "xP4E6KTcesK-"
      }
    },
    {
      "cell_type": "code",
      "source": [
        "a = \" Hello, World! \"\n",
        "print(a.strip()) # returns \"Hello, World!\""
      ],
      "metadata": {
        "colab": {
          "base_uri": "https://localhost:8080/"
        },
        "id": "ZhzF9ry_e0J9",
        "outputId": "ab58d997-d5d7-46c0-a500-915b53e2dd8a"
      },
      "execution_count": null,
      "outputs": [
        {
          "output_type": "stream",
          "name": "stdout",
          "text": [
            "Hello, World!\n"
          ]
        }
      ]
    },
    {
      "cell_type": "markdown",
      "source": [
        "## **Replace String**\n",
        "The replace() method replaces a string with another string:"
      ],
      "metadata": {
        "id": "cE-XQ5Lue299"
      }
    },
    {
      "cell_type": "code",
      "source": [
        "a = \"Hello, World!\"\n",
        "print(a.replace(\"H\", \"J\"))"
      ],
      "metadata": {
        "colab": {
          "base_uri": "https://localhost:8080/"
        },
        "id": "ZIdNWAH-e7gt",
        "outputId": "273703e4-a1c8-465d-da88-ffa112fa4448"
      },
      "execution_count": null,
      "outputs": [
        {
          "output_type": "stream",
          "name": "stdout",
          "text": [
            "Jello, World!\n"
          ]
        }
      ]
    },
    {
      "cell_type": "markdown",
      "source": [
        "## **Split String**\n",
        "The split() method returns a list where the text between the specified separator becomes the list items.\n",
        "The split() method splits the string into substrings if it finds instances of the separator:"
      ],
      "metadata": {
        "id": "WnZ_JvM2e-It"
      }
    },
    {
      "cell_type": "code",
      "source": [
        "a = \"Hello, World!\"\n",
        "print(a.split(\",\")) # returns ['Hello', ' World!']"
      ],
      "metadata": {
        "colab": {
          "base_uri": "https://localhost:8080/"
        },
        "id": "ujVQqHusfIkF",
        "outputId": "c7a380ee-236f-4907-8781-412f9602ad31"
      },
      "execution_count": null,
      "outputs": [
        {
          "output_type": "stream",
          "name": "stdout",
          "text": [
            "['Hello', ' World!']\n"
          ]
        }
      ]
    },
    {
      "cell_type": "markdown",
      "source": [
        "\n",
        " ## ***Task#01*** \n",
        "\n",
        "Perform the following tasks using the provided built-in functions to manipulate the string input_string = \" AI and related technologies have a positive impact on the way the IT sector works.  \":\n",
        "\n",
        "a) Convert the input_string to uppercase using the \"upper()\" function and store the result in a variable called \"capitalized_text\".\n",
        "\n",
        "b) Convert the input_string to lowercase using the \"lower()\" function and store the result in a variable called \"lowercase_text\".\n",
        "\n",
        "c) Remove the White spaces from the input_string using the \"strip()\" function and store the result in a variable called \"White_space\"\n",
        "\n",
        "d) Split the input_string into a list of words using the \"split()\" function and store the result in a variable called \"word_list\".\n",
        "\n",
        "e) Replace the word 'positive' with the word 'remarkable' in the input_string using the \"replace()\" function and store the result in a variable called \"replaced_text\"."
      ],
      "metadata": {
        "id": "OM1nxWAkBQG4"
      }
    },
    {
      "cell_type": "markdown",
      "source": [
        "# **List**\n",
        "Lists are created using square brackets:"
      ],
      "metadata": {
        "id": "PO2-KzT1fwjW"
      }
    },
    {
      "cell_type": "code",
      "source": [
        "thislist = [\"apple\", \"banana\", \"cherry\"]\n",
        "print(thislist)"
      ],
      "metadata": {
        "colab": {
          "base_uri": "https://localhost:8080/"
        },
        "id": "qB8pc3bdf5YE",
        "outputId": "f9f6fbeb-e631-4722-82fc-342ea5732826"
      },
      "execution_count": null,
      "outputs": [
        {
          "output_type": "stream",
          "name": "stdout",
          "text": [
            "['apple', 'banana', 'cherry']\n"
          ]
        }
      ]
    },
    {
      "cell_type": "markdown",
      "source": [
        "# **List Items**\n",
        "List items are ordered, changeable, and allow duplicate values.\n",
        "List items are indexed, the first item has index [0], the second item has index [1] etc.\n",
        "Allow Duplicates\n"
      ],
      "metadata": {
        "id": "6HzogGERf8nk"
      }
    },
    {
      "cell_type": "code",
      "source": [
        "thislist = [\"apple\", \"banana\", \"cherry\", \"apple\", \"cherry\"]\n",
        "print(thislist)"
      ],
      "metadata": {
        "colab": {
          "base_uri": "https://localhost:8080/"
        },
        "id": "3Mqn_XlTgPhG",
        "outputId": "c7533aaa-2f03-4b35-de59-56a02d6f3b4a"
      },
      "execution_count": null,
      "outputs": [
        {
          "output_type": "stream",
          "name": "stdout",
          "text": [
            "['apple', 'banana', 'cherry', 'apple', 'cherry']\n"
          ]
        }
      ]
    },
    {
      "cell_type": "markdown",
      "source": [
        "## **List Length**\n",
        "To determine how many items a list has, use the len() function:"
      ],
      "metadata": {
        "id": "esEBA507gbjN"
      }
    },
    {
      "cell_type": "code",
      "source": [
        "print(len(thislist))"
      ],
      "metadata": {
        "colab": {
          "base_uri": "https://localhost:8080/"
        },
        "id": "qnmooo6Oaa4W",
        "outputId": "15c8df4d-2e10-4f4c-c3d0-1fbcaac4ef86"
      },
      "execution_count": null,
      "outputs": [
        {
          "output_type": "stream",
          "name": "stdout",
          "text": [
            "5\n"
          ]
        }
      ]
    },
    {
      "cell_type": "markdown",
      "source": [
        "## **List Items - Data Types**\n",
        "List items can be of any data type:\n"
      ],
      "metadata": {
        "id": "l9txKtQ2gke1"
      }
    },
    {
      "cell_type": "code",
      "source": [
        "# String, int and boolean data types:\n",
        "list1 = [\"apple\", \"banana\", \"cherry\"]\n",
        "list2 = [1, 5, 7, 9, 3]\n",
        "list3 = [True, False, False]"
      ],
      "metadata": {
        "id": "yAZLGxuJgr1N"
      },
      "execution_count": null,
      "outputs": []
    },
    {
      "cell_type": "code",
      "source": [
        "# A list with strings, integers and boolean values:\n",
        "list1 = [\"abc\", 34, True, 40, \"male\"]\n",
        "print(list1)"
      ],
      "metadata": {
        "colab": {
          "base_uri": "https://localhost:8080/"
        },
        "id": "dxOx-pt6gzSG",
        "outputId": "c17cb51f-1c46-48e1-f8e0-b1e90bd30085"
      },
      "execution_count": null,
      "outputs": [
        {
          "output_type": "stream",
          "name": "stdout",
          "text": [
            "['abc', 34, True, 40, 'male']\n"
          ]
        }
      ]
    },
    {
      "cell_type": "markdown",
      "source": [
        "## **Access Elements**\n"
      ],
      "metadata": {
        "id": "mG3os6IePKc8"
      }
    },
    {
      "cell_type": "code",
      "source": [
        "#Access the first element of list\n",
        "print(list1[0])"
      ],
      "metadata": {
        "id": "w3oq_EpePPnN"
      },
      "execution_count": null,
      "outputs": []
    },
    {
      "cell_type": "code",
      "source": [
        "#Access the last element of list\n",
        "print(list1[-1])"
      ],
      "metadata": {
        "id": "kBm6dRaUPUAm"
      },
      "execution_count": null,
      "outputs": []
    },
    {
      "cell_type": "markdown",
      "source": [
        "## **Slicing**\n",
        "It is possible to access a section of items from the list using the slicing operator :, not just a single item"
      ],
      "metadata": {
        "id": "_olEbbC3PYLM"
      }
    },
    {
      "cell_type": "code",
      "source": [
        "print(list_of_integer[1:3])"
      ],
      "metadata": {
        "id": "96mJDLkPPYAl"
      },
      "execution_count": null,
      "outputs": []
    },
    {
      "cell_type": "markdown",
      "source": [
        "## **Add new elements in the list**"
      ],
      "metadata": {
        "id": "1poxhUQjQQ6M"
      }
    },
    {
      "cell_type": "code",
      "source": [
        "#Add new element in the list using append\n",
        "list_of_integer.append(6)\n",
        "print(list_of_integer)"
      ],
      "metadata": {
        "id": "MK673bM9QTcn"
      },
      "execution_count": null,
      "outputs": []
    },
    {
      "cell_type": "markdown",
      "source": [
        "## **Reversing a List**"
      ],
      "metadata": {
        "id": "aHN5fZEVQWPU"
      }
    },
    {
      "cell_type": "code",
      "source": [
        "list_of_integer.reverse()\n",
        "print(list_of_integer)"
      ],
      "metadata": {
        "id": "NO5uKCI2QZI2"
      },
      "execution_count": null,
      "outputs": []
    },
    {
      "cell_type": "markdown",
      "source": [
        "## **Removing Elements from the List**\n",
        "Elements can be removed from the List by using the built-in remove() function but an Error arises if the element doesn't exist in the list. Remove() method only removes one element at a time, to remove a range of elements, the iterator is used. The remove() method removes the specified item."
      ],
      "metadata": {
        "id": "BV8HxMYIQpJs"
      }
    },
    {
      "cell_type": "code",
      "source": [
        "rint(\"Initial List: \")\n",
        "print(list_of_integer)\n",
        "  \n",
        "# Removing elements from List\n",
        "# using Remove() method\n",
        "list_of_integer.remove(5)\n",
        "print(\"\\nList after Removal of one element: \")\n",
        "print(list_of_integer)"
      ],
      "metadata": {
        "id": "6hDcBm_NQt9E"
      },
      "execution_count": null,
      "outputs": []
    },
    {
      "cell_type": "markdown",
      "source": [
        "# **Tuple**\n",
        "Tuples are used to store multiple items in a single variable.\n",
        "A tuple is a collection which is ordered and unchangeable.\n",
        "\n",
        "Tuples are written with round brackets."
      ],
      "metadata": {
        "id": "NobW49kYhA0F"
      }
    },
    {
      "cell_type": "markdown",
      "source": [
        "## **Create a Tuple:**"
      ],
      "metadata": {
        "id": "3q-oCS_dhKKV"
      }
    },
    {
      "cell_type": "code",
      "source": [
        "thistuple = (\"apple\", \"banana\", \"cherry\")\n",
        "print(thistuple)"
      ],
      "metadata": {
        "colab": {
          "base_uri": "https://localhost:8080/"
        },
        "id": "OJWX-ZebhAKN",
        "outputId": "96c2bb71-2983-45cd-b899-1e183764f08c"
      },
      "execution_count": null,
      "outputs": [
        {
          "output_type": "stream",
          "name": "stdout",
          "text": [
            "('apple', 'banana', 'cherry')\n"
          ]
        }
      ]
    },
    {
      "cell_type": "markdown",
      "source": [
        "## **Tuple Items**\n",
        "Tuple items are ordered, unchangeable, and allow duplicate values.\n",
        "\n",
        "Tuple items are indexed, the first item has index [0], the second item has index [1] etc.\n",
        "\n",
        "**Allow Duplicates**\n",
        "Since tuples are indexed, they can have items with the same value:"
      ],
      "metadata": {
        "id": "JcoWDmT8hQ09"
      }
    },
    {
      "cell_type": "code",
      "source": [
        "# Tuples allow duplicate values:\n",
        "thistuple = (\"apple\", \"banana\", \"cherry\", \"apple\", \"cherry\")\n",
        "print(thistuple)"
      ],
      "metadata": {
        "colab": {
          "base_uri": "https://localhost:8080/"
        },
        "id": "oBDhKFXXhkA9",
        "outputId": "5afac5e2-bb36-47fe-8f80-089f12cf8d41"
      },
      "execution_count": null,
      "outputs": [
        {
          "output_type": "stream",
          "name": "stdout",
          "text": [
            "('apple', 'banana', 'cherry', 'apple', 'cherry')\n"
          ]
        }
      ]
    },
    {
      "cell_type": "markdown",
      "source": [
        "## **Create Tuple With One Item**\n",
        "To create a tuple with only one item, you have to add a comma after the item, otherwise Python will not recognize it as a tuple."
      ],
      "metadata": {
        "id": "x5TDxrfWj5F9"
      }
    },
    {
      "cell_type": "code",
      "source": [
        "# One item tuple, remember the comma:\n",
        "thistuple = (\"apple\",)\n",
        "print(type(thistuple))\n",
        "\n",
        "#NOT a tuple\n",
        "thistuple = (\"apple\")\n",
        "print(type(thistuple))"
      ],
      "metadata": {
        "colab": {
          "base_uri": "https://localhost:8080/"
        },
        "id": "3ojGNAdakIw1",
        "outputId": "7b85a140-141b-4e61-f593-72c26b34a5dd"
      },
      "execution_count": null,
      "outputs": [
        {
          "output_type": "stream",
          "name": "stdout",
          "text": [
            "<class 'tuple'>\n",
            "<class 'str'>\n"
          ]
        }
      ]
    },
    {
      "cell_type": "markdown",
      "source": [
        "## **Tuple Items - Data Types**\n",
        "Tuple items can be of any data type:"
      ],
      "metadata": {
        "id": "N0GHj27ekScG"
      }
    },
    {
      "cell_type": "code",
      "source": [
        "# String, int and boolean data types:\n",
        "tuple1 = (\"apple\", \"banana\", \"cherry\")\n",
        "tuple2 = (1, 5, 7, 9, 3)\n",
        "tuple3 = (True, False, False)"
      ],
      "metadata": {
        "id": "QBKhwh6UkYLm"
      },
      "execution_count": null,
      "outputs": []
    },
    {
      "cell_type": "code",
      "source": [
        "# A tuple can contain different data types:\n",
        "# A tuple with strings, integers and boolean values:\n",
        "tuple1 = (\"abc\", 34, True, 40, \"male\")"
      ],
      "metadata": {
        "id": "rzCsNSmvkcn2"
      },
      "execution_count": null,
      "outputs": []
    },
    {
      "cell_type": "markdown",
      "source": [
        "# **Python Sets**\n",
        "Sets are used to store multiple items in a single variable.\n",
        "A set is a collection which is unordered, unchangeable*, and unindexed.\n",
        "**Note:** Set items are unchangeable, but you can remove items and add new items."
      ],
      "metadata": {
        "id": "LCP_PjRRk7DO"
      }
    },
    {
      "cell_type": "markdown",
      "source": [
        "## **Unordered**\n",
        "Unordered means that the items in a set do not have a defined order.\n",
        "\n",
        "Set items can appear in a different order every time you use them, and cannot be referred to by index or key"
      ],
      "metadata": {
        "id": "Kj8TgRdYlh1F"
      }
    },
    {
      "cell_type": "markdown",
      "source": [
        "# **Create a Set:**\n",
        "Sets are written with curly brackets."
      ],
      "metadata": {
        "id": "LdaNJ4xRlNkF"
      }
    },
    {
      "cell_type": "code",
      "source": [
        "thisset = {\"apple\", \"banana\", \"cherry\"}\n",
        "print(thisset)"
      ],
      "metadata": {
        "colab": {
          "base_uri": "https://localhost:8080/"
        },
        "id": "alaTV6OulZql",
        "outputId": "5629e725-53a6-43ad-937e-c6b31669681a"
      },
      "execution_count": null,
      "outputs": [
        {
          "output_type": "stream",
          "name": "stdout",
          "text": [
            "{'banana', 'apple', 'cherry'}\n"
          ]
        }
      ]
    },
    {
      "cell_type": "markdown",
      "source": [
        "## **Duplicates Not Allowed**\n",
        "Sets cannot have two items with the same value."
      ],
      "metadata": {
        "id": "NgNcueA4lyF2"
      }
    },
    {
      "cell_type": "code",
      "source": [
        "# Duplicate values will be ignored:\n",
        "thisset = {\"apple\", \"banana\", \"cherry\", \"apple\"}\n",
        "\n",
        "print(thisset)"
      ],
      "metadata": {
        "colab": {
          "base_uri": "https://localhost:8080/"
        },
        "id": "h4duodYtl2X2",
        "outputId": "8ac944cd-e71b-4fc6-d38d-c885623f6ab6"
      },
      "execution_count": null,
      "outputs": [
        {
          "output_type": "stream",
          "name": "stdout",
          "text": [
            "{'banana', 'apple', 'cherry'}\n"
          ]
        }
      ]
    },
    {
      "cell_type": "markdown",
      "source": [
        "## **Get the Length of a Set**\n",
        "To determine how many items a set has, use the len() function."
      ],
      "metadata": {
        "id": "FujeXlvWnafW"
      }
    },
    {
      "cell_type": "code",
      "source": [
        "# Get the number of items in a set:\n",
        "thisset = {\"apple\", \"banana\", \"cherry\"}\n",
        "\n",
        "print(len(thisset))"
      ],
      "metadata": {
        "colab": {
          "base_uri": "https://localhost:8080/"
        },
        "id": "BHhnz3ENnkuo",
        "outputId": "e780d2ba-a783-4991-de44-0e26acb6f34f"
      },
      "execution_count": null,
      "outputs": [
        {
          "output_type": "stream",
          "name": "stdout",
          "text": [
            "3\n"
          ]
        }
      ]
    },
    {
      "cell_type": "markdown",
      "source": [
        "## **Set Items - Data Types**\n",
        "Set items can be of any data type:\n"
      ],
      "metadata": {
        "id": "DSmNrkTUnrq2"
      }
    },
    {
      "cell_type": "code",
      "source": [
        "# String, int and boolean data types:\n",
        "set1 = {\"apple\", \"banana\", \"cherry\"}\n",
        "set2 = {1, 5, 7, 9, 3}\n",
        "set3 = {True, False, False}"
      ],
      "metadata": {
        "id": "ErxEFYqNnxSm"
      },
      "execution_count": null,
      "outputs": []
    },
    {
      "cell_type": "code",
      "source": [
        "# A set can contain different data types:\n",
        "# A set with strings, integers and boolean values:\n",
        "set1 = {\"abc\", 34, True, 40, \"male\"}\n",
        "print(set1)"
      ],
      "metadata": {
        "colab": {
          "base_uri": "https://localhost:8080/"
        },
        "id": "gI3ysZ41oDlY",
        "outputId": "787477ff-52a0-4eba-c45b-f502f7bfb7ab"
      },
      "execution_count": null,
      "outputs": [
        {
          "output_type": "stream",
          "name": "stdout",
          "text": [
            "{True, 34, 40, 'abc', 'male'}\n"
          ]
        }
      ]
    },
    {
      "cell_type": "markdown",
      "source": [
        "## **type()**\n",
        "From Python's perspective, sets are defined as objects with the data type 'set':"
      ],
      "metadata": {
        "id": "mv09SZqjoNCm"
      }
    },
    {
      "cell_type": "code",
      "source": [
        "# What is the data type of a set?\n",
        "myset = {\"apple\", \"banana\", \"cherry\"}\n",
        "print(type(myset))"
      ],
      "metadata": {
        "colab": {
          "base_uri": "https://localhost:8080/"
        },
        "id": "1Ou3MwyaoWwG",
        "outputId": "56519f55-6189-4366-b720-afcecea92725"
      },
      "execution_count": null,
      "outputs": [
        {
          "output_type": "stream",
          "name": "stdout",
          "text": [
            "<class 'set'>\n"
          ]
        }
      ]
    },
    {
      "cell_type": "markdown",
      "source": [
        "# **Python Dictionaries**\n",
        "Dictionaries are used to store data values in key:value pairs.\n",
        "\n",
        "A dictionary is a collection which is ordered*, changeable and do not allow duplicates."
      ],
      "metadata": {
        "id": "7b58cGmjsFu3"
      }
    },
    {
      "cell_type": "code",
      "source": [
        "# Dictionaries are written with curly brackets, and have keys and values:\n",
        "# Create and print a dictionary:\n",
        "thisdict = {\"brand\": \"Ford\",  \"model\": \"Mustang\",\"year\": 1964}\n",
        "print(thisdict)"
      ],
      "metadata": {
        "colab": {
          "base_uri": "https://localhost:8080/"
        },
        "id": "j0YslMCcsPi2",
        "outputId": "edd620a2-7b82-4ec9-bc94-1ebac43304fb"
      },
      "execution_count": null,
      "outputs": [
        {
          "output_type": "stream",
          "name": "stdout",
          "text": [
            "{'brand': 'Ford', 'model': 'Mustang', 'year': 1964}\n"
          ]
        }
      ]
    },
    {
      "cell_type": "markdown",
      "source": [
        "## **Dictionary Items**\n",
        "Dictionary items are ordered, changeable, and does not allow duplicates.\n",
        "\n",
        "Dictionary items are presented in key:value pairs, and can be referred to by using the key name."
      ],
      "metadata": {
        "id": "9yZYmulasW9Q"
      }
    },
    {
      "cell_type": "code",
      "source": [
        "# Print the \"brand\" value of the dictionary:\n",
        "thisdict = {\n",
        "  \"brand\": \"Ford\",\n",
        "  \"model\": \"Mustang\",\n",
        "  \"year\": 1964\n",
        "}\n",
        "print(thisdict[\"brand\"])"
      ],
      "metadata": {
        "colab": {
          "base_uri": "https://localhost:8080/"
        },
        "id": "7NL16S2pskdv",
        "outputId": "b28fcd23-39a4-4274-980d-1ed9df080415"
      },
      "execution_count": null,
      "outputs": [
        {
          "output_type": "stream",
          "name": "stdout",
          "text": [
            "Ford\n"
          ]
        }
      ]
    },
    {
      "cell_type": "markdown",
      "source": [
        "## **Ordered or Unordered?**\n",
        "When we say that dictionaries are ordered, it means that the items have a defined order, and that order will not change.\n",
        "\n",
        "Unordered means that the items does not have a defined order, you cannot refer to an item by using an index."
      ],
      "metadata": {
        "id": "BFrGuZCis1BH"
      }
    },
    {
      "cell_type": "markdown",
      "source": [
        "## **Changeable**\n",
        "Dictionaries are changeable, meaning that we can change, add or remove items after the dictionary has been created."
      ],
      "metadata": {
        "id": "8TovUFris5OX"
      }
    },
    {
      "cell_type": "markdown",
      "source": [
        "## **Duplicates Not Allowed**\n",
        "Dictionaries cannot have two items with the same key:"
      ],
      "metadata": {
        "id": "S7WQzYZGs_Z3"
      }
    },
    {
      "cell_type": "code",
      "source": [
        "# Duplicate values will overwrite existing values:\n",
        "thisdict = {\n",
        "  \"brand\": \"Ford\",\n",
        "  \"model\": \"Mustang\",\n",
        "  \"year\": 1964,\n",
        "  \"year\": 2020\n",
        "}\n",
        "print(thisdict)"
      ],
      "metadata": {
        "colab": {
          "base_uri": "https://localhost:8080/"
        },
        "id": "u1-7xNrQtEjX",
        "outputId": "4f93a555-40a8-41c8-ac4e-6a2eda47e065"
      },
      "execution_count": null,
      "outputs": [
        {
          "output_type": "stream",
          "name": "stdout",
          "text": [
            "{'brand': 'Ford', 'model': 'Mustang', 'year': 2020}\n"
          ]
        }
      ]
    },
    {
      "cell_type": "markdown",
      "source": [
        "# **Difference between List, Tuple, Sets and Dictionay**"
      ],
      "metadata": {
        "id": "KdzvZ6NAqHcG"
      }
    },
    {
      "cell_type": "markdown",
      "source": [
        "![difference details.png](data:image/png;base64,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)"
      ],
      "metadata": {
        "id": "GqFrvLfsry92"
      }
    },
    {
      "cell_type": "markdown",
      "source": [
        "![difference .png](data:image/png;base64,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)"
      ],
      "metadata": {
        "id": "7sRR0aMSr39f"
      }
    },
    {
      "cell_type": "markdown",
      "source": [
        "# **Python If ... Else**\n",
        "Python supports the usual logical conditions from mathematics:\n",
        "\n",
        "Equals: a == b\n",
        "\n",
        "Not Equals: a != b\n",
        "\n",
        "Less than: a < b\n",
        "\n",
        "Less than or equal to: a <= b\n",
        "\n",
        "Greater than: a > b\n",
        "\n",
        "Greater than or equal to: a >= b\n",
        "\n",
        "These conditions can be used in several ways, most commonly in \"if statements\" and loops.\n",
        "\n",
        "An \"if statement\" is written by using the if keyword."
      ],
      "metadata": {
        "id": "Oefe_487Obpq"
      }
    },
    {
      "cell_type": "code",
      "source": [
        "# If statement:\n",
        "a = 330\n",
        "b = 200\n",
        "if b > a:\n",
        "  print(\"b is greater than a\")"
      ],
      "metadata": {
        "id": "IFxC76I6Oy4b"
      },
      "execution_count": null,
      "outputs": []
    },
    {
      "cell_type": "markdown",
      "source": [
        "## **Indentation**\n",
        "Python relies on indentation (whitespace at the beginning of a line) to define scope in the code. Other programming languages often use curly-brackets for this purpose."
      ],
      "metadata": {
        "id": "NNQ_tAtPO6aD"
      }
    },
    {
      "cell_type": "code",
      "source": [
        "a = 33\n",
        "b = 200\n",
        "if b > a:\n",
        "print(\"b is greater than a\") # you will get an error"
      ],
      "metadata": {
        "colab": {
          "base_uri": "https://localhost:8080/",
          "height": 134
        },
        "id": "EE0aie8ZO_o5",
        "outputId": "c05faa91-749f-44b3-c39f-6ab2a79c1b6d"
      },
      "execution_count": null,
      "outputs": [
        {
          "output_type": "error",
          "ename": "IndentationError",
          "evalue": "ignored",
          "traceback": [
            "\u001b[0;36m  File \u001b[0;32m\"<ipython-input-33-4276c1871af7>\"\u001b[0;36m, line \u001b[0;32m4\u001b[0m\n\u001b[0;31m    print(\"b is greater than a\") # you will get an error\u001b[0m\n\u001b[0m    ^\u001b[0m\n\u001b[0;31mIndentationError\u001b[0m\u001b[0;31m:\u001b[0m expected an indented block after 'if' statement on line 3\n"
          ]
        }
      ]
    },
    {
      "cell_type": "markdown",
      "source": [
        "## **Elif**\n",
        "The elif keyword is Python's way of saying \"if the previous conditions were not true, then try this condition\"."
      ],
      "metadata": {
        "id": "u-2jHJPCPD_k"
      }
    },
    {
      "cell_type": "code",
      "source": [
        "a = 33\n",
        "b = 33\n",
        "if b > a:\n",
        "  print(\"b is greater than a\")\n",
        "elif a == b:\n",
        "  print(\"a and b are equal\")"
      ],
      "metadata": {
        "colab": {
          "base_uri": "https://localhost:8080/"
        },
        "id": "THVfVUlUPFZC",
        "outputId": "68090a74-2528-43b6-dc71-153f6c7965fb"
      },
      "execution_count": null,
      "outputs": [
        {
          "output_type": "stream",
          "name": "stdout",
          "text": [
            "a and b are equal\n"
          ]
        }
      ]
    },
    {
      "cell_type": "markdown",
      "source": [
        "In this example a is equal to b, so the first condition is not true, but the elif condition is true, so we print to screen that \"a and b are equal\"."
      ],
      "metadata": {
        "id": "WTiHe4vmPJC6"
      }
    },
    {
      "cell_type": "markdown",
      "source": [
        "## **Else**\n",
        "The else keyword catches anything which isn't caught by the preceding conditions."
      ],
      "metadata": {
        "id": "aeS18pkiPNEC"
      }
    },
    {
      "cell_type": "code",
      "source": [
        "a = 200\n",
        "b = 33\n",
        "if b > a:\n",
        "  print(\"b is greater than a\")\n",
        "elif a == b:\n",
        "  print(\"a and b are equal\")\n",
        "else:\n",
        "  print(\"a is greater than b\")"
      ],
      "metadata": {
        "colab": {
          "base_uri": "https://localhost:8080/"
        },
        "id": "CqTik52NPPrS",
        "outputId": "bffed08a-b705-416d-bfab-11189ff8be06"
      },
      "execution_count": null,
      "outputs": [
        {
          "output_type": "stream",
          "name": "stdout",
          "text": [
            "a is greater than b\n"
          ]
        }
      ]
    },
    {
      "cell_type": "markdown",
      "source": [
        "## **And**\n",
        "The and keyword is a logical operator, and is used to combine conditional statements:\n"
      ],
      "metadata": {
        "id": "2voBGg_ir0bL"
      }
    },
    {
      "cell_type": "markdown",
      "source": [
        "Test if a is greater than b, AND if c is greater than a:"
      ],
      "metadata": {
        "id": "r7X0GgCpr7ez"
      }
    },
    {
      "cell_type": "code",
      "source": [
        "a = 200\n",
        "b = 330\n",
        "c = 500\n",
        "if a > b and c > a:\n",
        "  print(\"Both conditions are True\")"
      ],
      "metadata": {
        "id": "sI0-3Tf5sIDi"
      },
      "execution_count": null,
      "outputs": []
    },
    {
      "cell_type": "markdown",
      "source": [
        "## **Or**\n",
        "The or keyword is a logical operator, and is used to combine conditional statements:\n"
      ],
      "metadata": {
        "id": "g_Wt2YoSsLHj"
      }
    },
    {
      "cell_type": "code",
      "source": [
        "a = 200\n",
        "b = 33\n",
        "c = 500\n",
        "if a > b or a > c:\n",
        "  print(\"At least one of the conditions is True\")"
      ],
      "metadata": {
        "id": "z7uMJ5F-sTYr",
        "colab": {
          "base_uri": "https://localhost:8080/"
        },
        "outputId": "8802aab1-f49d-4535-c786-7537591b5ca9"
      },
      "execution_count": null,
      "outputs": [
        {
          "output_type": "stream",
          "name": "stdout",
          "text": [
            "At least one of the conditions is True\n"
          ]
        }
      ]
    },
    {
      "cell_type": "markdown",
      "source": [
        "## **Not**\n",
        "The not keyword is a logical operator, and is used to reverse the result of the conditional statement:\n"
      ],
      "metadata": {
        "id": "VsXU80XrsW57"
      }
    },
    {
      "cell_type": "code",
      "source": [
        "# Test if a is NOT greater than b:\n",
        "a = 33\n",
        "b = 200\n",
        "if not a > b:\n",
        "  print(\"a is NOT greater than b\")\n"
      ],
      "metadata": {
        "id": "ACNg0tjnsdMk",
        "colab": {
          "base_uri": "https://localhost:8080/"
        },
        "outputId": "0b33ed1f-3a0f-47f7-a4dd-921c88708328"
      },
      "execution_count": null,
      "outputs": [
        {
          "output_type": "stream",
          "name": "stdout",
          "text": [
            "a is NOT greater than b\n"
          ]
        }
      ]
    },
    {
      "cell_type": "markdown",
      "source": [
        "Pratice the concpet and Explore the python Language \n",
        "\n",
        "\n",
        "Assignment will be shared soon"
      ],
      "metadata": {
        "id": "6cE0hLN1i4ur"
      }
    }
  ]
}